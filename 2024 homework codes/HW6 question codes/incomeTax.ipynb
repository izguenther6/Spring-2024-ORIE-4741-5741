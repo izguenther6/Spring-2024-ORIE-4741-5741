{
 "cells": [
  {
   "cell_type": "markdown",
   "id": "3a74f8eb",
   "metadata": {},
   "source": [
    "# HW6 Data exploration and linear model"
   ]
  },
  {
   "cell_type": "code",
   "execution_count": 3,
   "id": "b77779c3",
   "metadata": {},
   "outputs": [],
   "source": [
    "import pandas as pd\n",
    "#for graphing:\n",
    "import seaborn as sns \n",
    "import matplotlib.pyplot as plt"
   ]
  },
  {
   "cell_type": "code",
   "execution_count": 4,
   "id": "6b5f8aec",
   "metadata": {},
   "outputs": [
    {
     "data": {
      "text/html": [
       "<div>\n",
       "<style scoped>\n",
       "    .dataframe tbody tr th:only-of-type {\n",
       "        vertical-align: middle;\n",
       "    }\n",
       "\n",
       "    .dataframe tbody tr th {\n",
       "        vertical-align: top;\n",
       "    }\n",
       "\n",
       "    .dataframe thead th {\n",
       "        text-align: right;\n",
       "    }\n",
       "</style>\n",
       "<table border=\"1\" class=\"dataframe\">\n",
       "  <thead>\n",
       "    <tr style=\"text-align: right;\">\n",
       "      <th></th>\n",
       "      <th>Year</th>\n",
       "      <th>County</th>\n",
       "      <th>IncomeClass</th>\n",
       "      <th>Disclosure</th>\n",
       "      <th>ReturnCount</th>\n",
       "      <th>TotalIncome</th>\n",
       "      <th>TotalDeductions</th>\n",
       "      <th>TotalExemptions</th>\n",
       "      <th>TotalTaxableIncome</th>\n",
       "      <th>TotalTaxBeforeCredits</th>\n",
       "      <th>TotalTaxLiability</th>\n",
       "      <th>Place of Residence Sort Order</th>\n",
       "      <th>Income Class Sort Order</th>\n",
       "    </tr>\n",
       "  </thead>\n",
       "  <tbody>\n",
       "    <tr>\n",
       "      <th>0</th>\n",
       "      <td>2011</td>\n",
       "      <td>Hamilton</td>\n",
       "      <td>500,000 and over</td>\n",
       "      <td>d/</td>\n",
       "      <td>NaN</td>\n",
       "      <td>NaN</td>\n",
       "      <td>NaN</td>\n",
       "      <td>NaN</td>\n",
       "      <td>NaN</td>\n",
       "      <td>NaN</td>\n",
       "      <td>NaN</td>\n",
       "      <td>26</td>\n",
       "      <td>13</td>\n",
       "    </tr>\n",
       "    <tr>\n",
       "      <th>1</th>\n",
       "      <td>2003</td>\n",
       "      <td>Dutchess</td>\n",
       "      <td>100,000 - 199,999</td>\n",
       "      <td>NaN</td>\n",
       "      <td>12738.0</td>\n",
       "      <td>1668991.0</td>\n",
       "      <td>261775.0</td>\n",
       "      <td>16628.0</td>\n",
       "      <td>1390589.0</td>\n",
       "      <td>91652.0</td>\n",
       "      <td>87689.0</td>\n",
       "      <td>19</td>\n",
       "      <td>10</td>\n",
       "    </tr>\n",
       "    <tr>\n",
       "      <th>2</th>\n",
       "      <td>2001</td>\n",
       "      <td>Ontario</td>\n",
       "      <td>Total</td>\n",
       "      <td>NaN</td>\n",
       "      <td>44898.0</td>\n",
       "      <td>1829734.0</td>\n",
       "      <td>449962.0</td>\n",
       "      <td>25393.0</td>\n",
       "      <td>1354378.0</td>\n",
       "      <td>77454.0</td>\n",
       "      <td>72764.0</td>\n",
       "      <td>38</td>\n",
       "      <td>12</td>\n",
       "    </tr>\n",
       "    <tr>\n",
       "      <th>3</th>\n",
       "      <td>2012</td>\n",
       "      <td>New York City - Richmond</td>\n",
       "      <td>30,000 - 39,999</td>\n",
       "      <td>NaN</td>\n",
       "      <td>16086.0</td>\n",
       "      <td>559918.0</td>\n",
       "      <td>192402.0</td>\n",
       "      <td>10519.0</td>\n",
       "      <td>356997.0</td>\n",
       "      <td>17286.0</td>\n",
       "      <td>12238.0</td>\n",
       "      <td>5</td>\n",
       "      <td>5</td>\n",
       "    </tr>\n",
       "    <tr>\n",
       "      <th>4</th>\n",
       "      <td>2007</td>\n",
       "      <td>Clinton</td>\n",
       "      <td>50,000 - 59,999</td>\n",
       "      <td>NaN</td>\n",
       "      <td>2197.0</td>\n",
       "      <td>120482.0</td>\n",
       "      <td>29429.0</td>\n",
       "      <td>1649.0</td>\n",
       "      <td>89404.0</td>\n",
       "      <td>4738.0</td>\n",
       "      <td>4220.0</td>\n",
       "      <td>15</td>\n",
       "      <td>7</td>\n",
       "    </tr>\n",
       "    <tr>\n",
       "      <th>...</th>\n",
       "      <td>...</td>\n",
       "      <td>...</td>\n",
       "      <td>...</td>\n",
       "      <td>...</td>\n",
       "      <td>...</td>\n",
       "      <td>...</td>\n",
       "      <td>...</td>\n",
       "      <td>...</td>\n",
       "      <td>...</td>\n",
       "      <td>...</td>\n",
       "      <td>...</td>\n",
       "      <td>...</td>\n",
       "      <td>...</td>\n",
       "    </tr>\n",
       "    <tr>\n",
       "      <th>12584</th>\n",
       "      <td>2013</td>\n",
       "      <td>Residence Unknown ++</td>\n",
       "      <td>100,000 - 199,999</td>\n",
       "      <td>NaN</td>\n",
       "      <td>527.0</td>\n",
       "      <td>74543.0</td>\n",
       "      <td>10177.0</td>\n",
       "      <td>282.0</td>\n",
       "      <td>64083.0</td>\n",
       "      <td>4095.0</td>\n",
       "      <td>3720.0</td>\n",
       "      <td>66</td>\n",
       "      <td>10</td>\n",
       "    </tr>\n",
       "    <tr>\n",
       "      <th>12585</th>\n",
       "      <td>2013</td>\n",
       "      <td>Residence Unknown ++</td>\n",
       "      <td>200,000 - 249,999</td>\n",
       "      <td>NaN</td>\n",
       "      <td>127.0</td>\n",
       "      <td>28013.0</td>\n",
       "      <td>3219.0</td>\n",
       "      <td>93.0</td>\n",
       "      <td>24702.0</td>\n",
       "      <td>1643.0</td>\n",
       "      <td>1469.0</td>\n",
       "      <td>66</td>\n",
       "      <td>11</td>\n",
       "    </tr>\n",
       "    <tr>\n",
       "      <th>12586</th>\n",
       "      <td>2013</td>\n",
       "      <td>Residence Unknown ++</td>\n",
       "      <td>250,000 - 499,999</td>\n",
       "      <td>NaN</td>\n",
       "      <td>223.0</td>\n",
       "      <td>79218.0</td>\n",
       "      <td>5876.0</td>\n",
       "      <td>174.0</td>\n",
       "      <td>73168.0</td>\n",
       "      <td>4972.0</td>\n",
       "      <td>4492.0</td>\n",
       "      <td>66</td>\n",
       "      <td>12</td>\n",
       "    </tr>\n",
       "    <tr>\n",
       "      <th>12587</th>\n",
       "      <td>2013</td>\n",
       "      <td>Residence Unknown ++</td>\n",
       "      <td>500,000 and over</td>\n",
       "      <td>NaN</td>\n",
       "      <td>326.0</td>\n",
       "      <td>872846.0</td>\n",
       "      <td>14092.0</td>\n",
       "      <td>290.0</td>\n",
       "      <td>858465.0</td>\n",
       "      <td>71780.0</td>\n",
       "      <td>63360.0</td>\n",
       "      <td>66</td>\n",
       "      <td>13</td>\n",
       "    </tr>\n",
       "    <tr>\n",
       "      <th>12588</th>\n",
       "      <td>2013</td>\n",
       "      <td>Residence Unknown ++</td>\n",
       "      <td>Total</td>\n",
       "      <td>NaN</td>\n",
       "      <td>7612.0</td>\n",
       "      <td>1087357.0</td>\n",
       "      <td>85023.0</td>\n",
       "      <td>3138.0</td>\n",
       "      <td>1107923.0</td>\n",
       "      <td>87051.0</td>\n",
       "      <td>75763.0</td>\n",
       "      <td>66</td>\n",
       "      <td>14</td>\n",
       "    </tr>\n",
       "  </tbody>\n",
       "</table>\n",
       "<p>12589 rows × 13 columns</p>\n",
       "</div>"
      ],
      "text/plain": [
       "       Year                    County        IncomeClass Disclosure  \\\n",
       "0      2011                  Hamilton   500,000 and over         d/   \n",
       "1      2003                 Dutchess   100,000 - 199,999        NaN   \n",
       "2      2001                  Ontario               Total        NaN   \n",
       "3      2012  New York City - Richmond    30,000 - 39,999        NaN   \n",
       "4      2007                  Clinton     50,000 - 59,999        NaN   \n",
       "...     ...                       ...                ...        ...   \n",
       "12584  2013      Residence Unknown ++  100,000 - 199,999        NaN   \n",
       "12585  2013      Residence Unknown ++  200,000 - 249,999        NaN   \n",
       "12586  2013      Residence Unknown ++  250,000 - 499,999        NaN   \n",
       "12587  2013      Residence Unknown ++   500,000 and over        NaN   \n",
       "12588  2013      Residence Unknown ++              Total        NaN   \n",
       "\n",
       "       ReturnCount  TotalIncome  TotalDeductions  TotalExemptions  \\\n",
       "0              NaN          NaN              NaN              NaN   \n",
       "1          12738.0    1668991.0         261775.0          16628.0   \n",
       "2          44898.0    1829734.0         449962.0          25393.0   \n",
       "3          16086.0     559918.0         192402.0          10519.0   \n",
       "4           2197.0     120482.0          29429.0           1649.0   \n",
       "...            ...          ...              ...              ...   \n",
       "12584        527.0      74543.0          10177.0            282.0   \n",
       "12585        127.0      28013.0           3219.0             93.0   \n",
       "12586        223.0      79218.0           5876.0            174.0   \n",
       "12587        326.0     872846.0          14092.0            290.0   \n",
       "12588       7612.0    1087357.0          85023.0           3138.0   \n",
       "\n",
       "       TotalTaxableIncome  TotalTaxBeforeCredits  TotalTaxLiability  \\\n",
       "0                     NaN                    NaN                NaN   \n",
       "1               1390589.0                91652.0            87689.0   \n",
       "2               1354378.0                77454.0            72764.0   \n",
       "3                356997.0                17286.0            12238.0   \n",
       "4                 89404.0                 4738.0             4220.0   \n",
       "...                   ...                    ...                ...   \n",
       "12584             64083.0                 4095.0             3720.0   \n",
       "12585             24702.0                 1643.0             1469.0   \n",
       "12586             73168.0                 4972.0             4492.0   \n",
       "12587            858465.0                71780.0            63360.0   \n",
       "12588           1107923.0                87051.0            75763.0   \n",
       "\n",
       "       Place of Residence Sort Order  Income Class Sort Order  \n",
       "0                                 26                       13  \n",
       "1                                 19                       10  \n",
       "2                                 38                       12  \n",
       "3                                  5                        5  \n",
       "4                                 15                        7  \n",
       "...                              ...                      ...  \n",
       "12584                             66                       10  \n",
       "12585                             66                       11  \n",
       "12586                             66                       12  \n",
       "12587                             66                       13  \n",
       "12588                             66                       14  \n",
       "\n",
       "[12589 rows x 13 columns]"
      ]
     },
     "execution_count": 4,
     "metadata": {},
     "output_type": "execute_result"
    }
   ],
   "source": [
    "# load data\n",
    "tax = pd.read_csv(\"incomeTaxData.csv\")\n",
    "tax"
   ]
  },
  {
   "cell_type": "markdown",
   "id": "187124f7",
   "metadata": {},
   "source": [
    "You can see just from the first line of the dataset that the there are some rows with no **returns** associated with it. Let's delete those from the dataset.\n",
    "\n",
    "Also note that all of the data is in **thousands of dollars**."
   ]
  },
  {
   "cell_type": "code",
   "execution_count": 5,
   "id": "985b7318",
   "metadata": {},
   "outputs": [],
   "source": [
    "# clean data\n",
    "tax = tax.dropna(subset=['ReturnCount'])\n",
    "tax = tax.sort_values(by=['Year'])\n",
    "# create new columns\n",
    "tax['avg_tax'] = tax['TotalTaxLiability']/tax['ReturnCount']"
   ]
  },
  {
   "cell_type": "markdown",
   "id": "995b6b8d",
   "metadata": {},
   "source": [
    "## a)\n",
    "\n",
    "\n",
    "Plot the number of returns in Tompkins County from each income class bracket over time on a single graph.（Ignore the rows with the class of 'Total'. Should span 1999-2013. Some of the county names may have leading/trailing whitespaces.）"
   ]
  },
  {
   "cell_type": "code",
   "execution_count": 6,
   "id": "9291e6fa",
   "metadata": {},
   "outputs": [
    {
     "data": {
      "text/plain": [
       "Text(0, 0.5, 'Return Count')"
      ]
     },
     "execution_count": 6,
     "metadata": {},
     "output_type": "execute_result"
    },
    {
     "data": {
      "image/png": "[encoded data removed]",
      "text/plain": [
       "<Figure size 1000x700 with 1 Axes>"
      ]
     },
     "metadata": {},
     "output_type": "display_data"
    }
   ],
   "source": [
    "###Enter your codes here\n",
    "\n",
    "#strip whitespaces in 'County' and get a separate tompkins county df without Total income class\n",
    "tax['County'] = tax['County'].str.strip()\n",
    "taxTC = tax.loc[(tax['County'] == 'Tompkins') & (tax['IncomeClass'] != 'Total')]\n",
    "\n",
    "#set ascending order income class and then plot\n",
    "order = ['Under 5,000','5,000 - 9,999', '10,000 - 19,999', '20,000 - 29,999', '30,000 - 39,999', '40,000 - 49,999',\n",
    "         '50,000 - 59,999', '60,000 - 74,999', '75,000 - 99,999', '100,000 - 199,999', '200,000 and over', \n",
    "         '200,000 - 249,999', '250,000 - 499,999', '500,000 and over']\n",
    "fig1, ax1 = plt.subplots(figsize=(10,7))\n",
    "ax1 = sns.barplot(data = taxTC, x = \"Year\", y = \"ReturnCount\", hue = 'IncomeClass',ax=ax1, hue_order=order)\n",
    "plt.legend(bbox_to_anchor=(1.01, 1), loc='upper left', title = 'Income Classes')\n",
    "ax1.set_title('Number of Returns in Tompkins County from Each Income Class Bracket vs Time')\n",
    "ax1.set_ylabel('Return Count')\n",
    "\n",
    "\n"
   ]
  },
  {
   "cell_type": "markdown",
   "id": "c5facfdc",
   "metadata": {},
   "source": [
    "Plot the average income tax per return in Tompkins County (disregarding income class).（You could add up the all income classes (except 'Total') to calculate the weighted average tax OR just plot the rows of 'Total'. The sum might differ from the number in 'total'; either answer is ok. Messy data!)"
   ]
  },
  {
   "cell_type": "code",
   "execution_count": 7,
   "id": "88135997",
   "metadata": {},
   "outputs": [
    {
     "data": {
      "text/plain": [
       "Text(0, 0.5, 'Average Income Tax')"
      ]
     },
     "execution_count": 7,
     "metadata": {},
     "output_type": "execute_result"
    },
    {
     "data": {
      "image/png": "[encoded data removed]",
      "text/plain": [
       "<Figure size 800x300 with 1 Axes>"
      ]
     },
     "metadata": {},
     "output_type": "display_data"
    }
   ],
   "source": [
    "###Enter your codes here\n",
    "\n",
    "#get a separate tompkins county df with just Total income class\n",
    "taxTCtot = tax.loc[(tax['County'] == 'Tompkins') & (tax['IncomeClass'] == 'Total')]\n",
    "\n",
    "#plot\n",
    "fig2, ax2 = plt.subplots(figsize=(8,3))\n",
    "ax2 = sns.barplot(data = taxTCtot, x='Year', y='avg_tax', ax = ax2, color= 'blue')\n",
    "ax2.set_title('Average Income Tax per Return in Tompkins County vs Time'); ax2.set_ylabel('Average Income Tax')\n"
   ]
  },
  {
   "cell_type": "markdown",
   "id": "969706fa",
   "metadata": {},
   "source": [
    "Question: What kind of plot did you choose to make? Why?"
   ]
  },
  {
   "cell_type": "markdown",
   "id": "bf7373fd",
   "metadata": {},
   "source": [
    "Answer:\n",
    "\n",
    "\n",
    "<span style=\"color:red\">I chose barplots because I thought this best represented the data. Lineplots would be misleading as they suggest continuous change over the years, but it is discrete. Scatterplot would also work, but I thought the barplot just looked nicer."
   ]
  },
  {
   "cell_type": "markdown",
   "id": "c24611ce",
   "metadata": {},
   "source": [
    "## b)\n",
    "\n",
    "Continuing to look only at Tompkins County, fit a linear model that predicts **avg_tax** using the year number. Do this with **least squares**."
   ]
  },
  {
   "cell_type": "code",
   "execution_count": 8,
   "id": "85ca7eae",
   "metadata": {},
   "outputs": [
    {
     "name": "stderr",
     "output_type": "stream",
     "text": [
      "/var/folders/31/n7d1lkjj6y1_lcp76m8nrtbh0000gn/T/ipykernel_63171/414768389.py:13: FutureWarning: `rcond` parameter will change to the default of machine precision times ``max(M, N)`` where M and N are the input matrix dimensions.\n",
      "To use the future default and silence this warning we advise to pass `rcond=None`, to keep using the old, explicitly pass `rcond=-1`.\n",
      "  wb, resid_b, rank_b, s_b = np.linalg.lstsq(yearM, avgTax)\n"
     ]
    }
   ],
   "source": [
    "###Enter your codes here\n",
    "\n",
    "#using np.linalg.lstsq function\n",
    "import numpy as np\n",
    "\n",
    "#make year matrix, append offset\n",
    "years = np.array([taxTCtot['Year']])\n",
    "ones = np.ones((15,1)).T\n",
    "yearM = np.concatenate((years, ones)).T\n",
    "\n",
    "#run least squares equation\n",
    "avgTax = np.array(taxTCtot['avg_tax'])\n",
    "wb, resid_b, rank_b, s_b = np.linalg.lstsq(yearM, avgTax)\n"
   ]
  },
  {
   "cell_type": "markdown",
   "id": "16748305",
   "metadata": {},
   "source": [
    "Transform the input to include an offset term in the model"
   ]
  },
  {
   "cell_type": "code",
   "execution_count": 9,
   "id": "163d35e6",
   "metadata": {},
   "outputs": [],
   "source": [
    "###Enter your codes here\n",
    "\n",
    "#completed above\n"
   ]
  },
  {
   "cell_type": "markdown",
   "id": "a55c2691",
   "metadata": {},
   "source": [
    "## c)\n",
    "\n",
    "Now we will change the feature space. Fit a model using the **year** and the **avg_tax** from the previous year (and offset)."
   ]
  },
  {
   "cell_type": "code",
   "execution_count": 10,
   "id": "1272d8cf",
   "metadata": {},
   "outputs": [
    {
     "name": "stderr",
     "output_type": "stream",
     "text": [
      "/var/folders/31/n7d1lkjj6y1_lcp76m8nrtbh0000gn/T/ipykernel_63171/3964666021.py:8: FutureWarning: `rcond` parameter will change to the default of machine precision times ``max(M, N)`` where M and N are the input matrix dimensions.\n",
      "To use the future default and silence this warning we advise to pass `rcond=None`, to keep using the old, explicitly pass `rcond=-1`.\n",
      "  wc, resid_c, rank_c, s_c = np.linalg.lstsq(yravgM, avgTax)\n"
     ]
    }
   ],
   "source": [
    "###Enter your codes here\n",
    "\n",
    "#make input matrix\n",
    "avgTaxPrev = np.append(0, np.array([taxTCtot['avg_tax'][:14]])).reshape(1,15)\n",
    "yravgM = np.concatenate((years, avgTaxPrev, ones)).T\n",
    "\n",
    "#run least squares equation\n",
    "wc, resid_c, rank_c, s_c = np.linalg.lstsq(yravgM, avgTax)\n"
   ]
  },
  {
   "cell_type": "markdown",
   "id": "eba28a92",
   "metadata": {},
   "source": [
    "Question: Interpret the coefficients of this. What do they mean?"
   ]
  },
  {
   "cell_type": "markdown",
   "id": "9fb5dfe0",
   "metadata": {},
   "source": [
    "Answer:\n",
    "\n",
    "<span style=\"color:red\">The coefficients for the year and previous average tax are .0053 and .0022 respectively. This means that the year is twice as impactful for predicting the average tax. The offset is 99, as the coefficient is -99. This is a high value compared to the average tax values, which makes intuitive sense because the year values are 3 orders of magnitude greater."
   ]
  },
  {
   "cell_type": "markdown",
   "id": "8d02c5b7",
   "metadata": {},
   "source": [
    "Plot the real average tax return per year against your model's prediction. Discuss how you think your model fits."
   ]
  },
  {
   "cell_type": "code",
   "execution_count": 16,
   "id": "7a46b15a",
   "metadata": {},
   "outputs": [
    {
     "data": {
      "text/plain": [
       "Text(0, 0.5, 'Predicted Average Tax Return per Year')"
      ]
     },
     "execution_count": 16,
     "metadata": {},
     "output_type": "execute_result"
    },
    {
     "data": {
      "image/png": "[encoded data removed]",
      "text/plain": [
       "<Figure size 640x480 with 1 Axes>"
      ]
     },
     "metadata": {},
     "output_type": "display_data"
    }
   ],
   "source": [
    "###Enter your codes here\n",
    "\n",
    "avgTaxPred = np.matmul(yravgM, wc)\n",
    "plt.scatter(avgTax, avgTaxPred)\n",
    "plt.xlabel('Real Average Tax Return per Year')\n",
    "plt.title('Real Average Tax Return per Year vs Predicted')\n",
    "plt.ylabel('Predicted Average Tax Return per Year')\n"
   ]
  },
  {
   "cell_type": "markdown",
   "id": "2101c72b",
   "metadata": {},
   "source": [
    "Discussion: \n",
    "\n",
    "<span style=\"color:red\"> The model seems to fit well by visual inspection. Also, the residual sum of squares resid_c is 0.135, which is pretty small. "
   ]
  },
  {
   "cell_type": "markdown",
   "id": "88c1f9b8",
   "metadata": {},
   "source": [
    "## d)\n",
    "\n",
    "Add two new features to your model. This could be a column of the data, a transformation of a column, or a new column formed from another. The only requirement is that the prediction in year $t$ be based on data avilable by the end of year $t-1$\n",
    "\n",
    "State the feature space for your new model and why you think those features predict the data well. Fit this model and interpret the coefficients."
   ]
  },
  {
   "cell_type": "code",
   "execution_count": 19,
   "id": "d5b56cb2",
   "metadata": {},
   "outputs": [
    {
     "name": "stderr",
     "output_type": "stream",
     "text": [
      "/var/folders/31/n7d1lkjj6y1_lcp76m8nrtbh0000gn/T/ipykernel_63171/2942181033.py:8: FutureWarning: `rcond` parameter will change to the default of machine precision times ``max(M, N)`` where M and N are the input matrix dimensions.\n",
      "To use the future default and silence this warning we advise to pass `rcond=None`, to keep using the old, explicitly pass `rcond=-1`.\n",
      "  wd, resid_d, rank_d, s_d = np.linalg.lstsq(pdM, avgTax)\n"
     ]
    }
   ],
   "source": [
    "###Enter your codes here\n",
    "\n",
    "#two new columns: TotalIncome and TotalDeductions\n",
    "totIncPrev = np.append(0, np.array([taxTCtot['TotalIncome'][:14]])).reshape(1,15)\n",
    "totDedPrev = np.append(0, np.array([taxTCtot['TotalDeductions'][:14]])).reshape(1,15)\n",
    "pdM = np.concatenate((years, avgTaxPrev, totIncPrev, totDedPrev, ones)).T\n",
    "\n",
    "#run least squares equation\n",
    "wd, resid_d, rank_d, s_d = np.linalg.lstsq(pdM, avgTax)\n"
   ]
  },
  {
   "cell_type": "markdown",
   "id": "7aa94112",
   "metadata": {},
   "source": [
    "Answer to the question:\n",
    "\n",
    "<span style=\"color:red\">Honestly, I don't know a lot about taxes so I just chose the next two columns. All of the values in every column has an upward trend, as well, so nothing was noticeably distinguishable.\n",
    "\n",
    "<span style=\"color:red\">The coefficients for year, previous average tax, previous total income, and previous total deductions are 0.04, -0.69, 8.7E-7, and 7.3E-8 respectively. The previous total income and previous total deductions coeffs. are low magnitudes because those values are high magnitude. Average tax has coeff has a higher magnitude because those column values are significantly smaller.\n"
   ]
  },
  {
   "cell_type": "markdown",
   "id": "f64315b5",
   "metadata": {},
   "source": [
    "## e)\n",
    "\n",
    "Compare the coefficients from part c and d. Does the coefficient of avg_tax differ in the two models? If so, how do you interpret this difference?"
   ]
  },
  {
   "cell_type": "markdown",
   "id": "fe6da872",
   "metadata": {},
   "source": [
    "Answer:\n",
    "\n",
    "<span style=\"color:red\"> The coefficients for average tax differ significantly for wc and wd. I think the value in wd becomes negative because it helps if something subtracts from the high magnitudes of the other columns."
   ]
  },
  {
   "cell_type": "markdown",
   "id": "f195a0a0",
   "metadata": {},
   "source": [
    "## f)\n",
    "\n",
    "(see homework handout for details) Now we want to see how this model performs in **other counties**. Apply the model you fit in part c, with coefficients $w^c$, to data from the other counties and compute the error of this model on each data set.\n",
    "\n",
    "Plot a histogram of the mean errors the model makes."
   ]
  },
  {
   "cell_type": "code",
   "execution_count": 53,
   "id": "b2b85e1f",
   "metadata": {},
   "outputs": [
    {
     "data": {
      "text/plain": [
       "(array([57.,  1.,  0.,  1.,  0.,  0.,  0.,  0.,  0.,  1.]),\n",
       " array([1.35287187e-01, 8.15162190e+01, 1.62897151e+02, 2.44278083e+02,\n",
       "        3.25659015e+02, 4.07039946e+02, 4.88420878e+02, 5.69801810e+02,\n",
       "        6.51182742e+02, 7.32563674e+02, 8.13944605e+02]),\n",
       " <BarContainer object of 10 artists>)"
      ]
     },
     "execution_count": 53,
     "metadata": {},
     "output_type": "execute_result"
    },
    {
     "data": {
      "image/png": "[encoded data removed]",
      "text/plain": [
       "<Figure size 640x480 with 1 Axes>"
      ]
     },
     "metadata": {},
     "output_type": "display_data"
    }
   ],
   "source": [
    "###Enter your codes here\n",
    "\n",
    "#LOOP THROUGH EACH COUNTY TO RUN FIND RESIDUALS FOR EACH\n",
    "\n",
    "#first get county names\n",
    "counties = tax.County.unique()\n",
    "countiesClean = np.delete(counties, np.where(counties == 'NYS Unclassified +'))\n",
    "countiesClean = np.delete(countiesClean, np.where(countiesClean == 'Residence Unknown ++'))\n",
    "countiesClean = np.delete(countiesClean, np.where(countiesClean == 'Grand Total, Full-Year Resident'))\n",
    "\n",
    "#empty residual vector\n",
    "residuals = []\n",
    "\n",
    "#actual loop\n",
    "for county in countiesClean:\n",
    "    #get county totals\n",
    "    taxCountyTots = tax.loc[(tax['County'] == county) & (tax['IncomeClass'] == 'Total')]\n",
    " \n",
    "    #check if all years, if so proceed with least squares calculation\n",
    "    if len(taxCountyTots) == 15:\n",
    "        #matrix formation\n",
    "        yrs = np.array([taxCountyTots['Year']])\n",
    "        txPrv = np.append(0, np.array([taxTCtot['avg_tax'][:14]])).reshape(1,15)\n",
    "        M = np.concatenate((yrs, txPrv, ones)).T\n",
    "        \n",
    "        #prediction values\n",
    "        pred = np.matmul(M, wc)\n",
    "\n",
    "        #least squares\n",
    "        resid = np.sum(np.square(taxCountyTots['avg_tax']-pred[:]))\n",
    "        residuals.append(resid)\n",
    "       \n",
    "#plot, showing raw\n",
    "plt.hist(residuals)\n",
    "        "
   ]
  },
  {
   "cell_type": "code",
   "execution_count": 56,
   "id": "f8c969d8",
   "metadata": {},
   "outputs": [
    {
     "data": {
      "text/plain": [
       "(array([8., 3., 3., 1., 1., 0., 1., 6., 4., 4., 3., 1., 1., 3., 2., 3., 2.,\n",
       "        7., 1., 1., 0., 0., 1., 0., 0., 0., 0., 0., 0., 0., 0., 1., 0., 0.,\n",
       "        0., 0., 0., 0., 0., 0., 0., 0., 0., 0., 0., 0., 0., 0., 0., 0.]),\n",
       " array([ 0.,  1.,  2.,  3.,  4.,  5.,  6.,  7.,  8.,  9., 10., 11., 12.,\n",
       "        13., 14., 15., 16., 17., 18., 19., 20., 21., 22., 23., 24., 25.,\n",
       "        26., 27., 28., 29., 30., 31., 32., 33., 34., 35., 36., 37., 38.,\n",
       "        39., 40., 41., 42., 43., 44., 45., 46., 47., 48., 49., 50.]),\n",
       " <BarContainer object of 50 artists>)"
      ]
     },
     "execution_count": 56,
     "metadata": {},
     "output_type": "execute_result"
    },
    {
     "data": {
      "image/png": "[encoded data removed]",
      "text/plain": [
       "<Figure size 640x480 with 1 Axes>"
      ]
     },
     "metadata": {},
     "output_type": "display_data"
    }
   ],
   "source": [
    "#plot, ignoring outliers\n",
    "plt.hist(residuals, range=[0,50], bins = 50)"
   ]
  },
  {
   "cell_type": "markdown",
   "id": "dfef043a",
   "metadata": {},
   "source": [
    "Are there major outliers?\n"
   ]
  },
  {
   "cell_type": "markdown",
   "id": "31224d81",
   "metadata": {},
   "source": [
    "Answer:\n",
    "\n",
    "<span style=\"color:red\">813 and 312 appear to be outliers, and you could maybe say 84 and 31 are, as well.\n",
    "\n",
    "<span style=\"color:red\">It appears that Tompkins County is the lowest residual and all others are higher."
   ]
  },
  {
   "cell_type": "markdown",
   "id": "9b1de21e",
   "metadata": {},
   "source": [
    "## g)\n",
    "\n",
    "Using the same features you chose in part d, fit a model to the data for each of the other counties. These will be county-specific models. They may have different coefficient vectors from $w^d$.\n",
    "\n",
    "Plot a histogram of the mean square errors of the county-specific models for their respective counties."
   ]
  },
  {
   "cell_type": "code",
   "execution_count": 57,
   "id": "3c93a2c1",
   "metadata": {},
   "outputs": [
    {
     "ename": "ValueError",
     "evalue": "matmul: Input operand 1 has a mismatch in its core dimension 0, with gufunc signature (n?,k),(k,m?)->(n?,m?) (size 5 is different from 3)",
     "output_type": "error",
     "traceback": [
      "\u001b[0;31m---------------------------------------------------------------------------\u001b[0m",
      "\u001b[0;31mValueError\u001b[0m                                Traceback (most recent call last)",
      "\u001b[0;32m/var/folders/31/n7d1lkjj6y1_lcp76m8nrtbh0000gn/T/ipykernel_63171/1876459597.py\u001b[0m in \u001b[0;36m<module>\u001b[0;34m\u001b[0m\n\u001b[1;32m     19\u001b[0m \u001b[0;34m\u001b[0m\u001b[0m\n\u001b[1;32m     20\u001b[0m         \u001b[0;31m#prediction values\u001b[0m\u001b[0;34m\u001b[0m\u001b[0;34m\u001b[0m\u001b[0m\n\u001b[0;32m---> 21\u001b[0;31m         \u001b[0mpred\u001b[0m \u001b[0;34m=\u001b[0m \u001b[0mnp\u001b[0m\u001b[0;34m.\u001b[0m\u001b[0mmatmul\u001b[0m\u001b[0;34m(\u001b[0m\u001b[0mM\u001b[0m\u001b[0;34m,\u001b[0m \u001b[0mwd\u001b[0m\u001b[0;34m)\u001b[0m\u001b[0;34m\u001b[0m\u001b[0;34m\u001b[0m\u001b[0m\n\u001b[0m\u001b[1;32m     22\u001b[0m \u001b[0;34m\u001b[0m\u001b[0m\n\u001b[1;32m     23\u001b[0m         \u001b[0;31m#least squares\u001b[0m\u001b[0;34m\u001b[0m\u001b[0;34m\u001b[0m\u001b[0m\n",
      "\u001b[0;31mValueError\u001b[0m: matmul: Input operand 1 has a mismatch in its core dimension 0, with gufunc signature (n?,k),(k,m?)->(n?,m?) (size 5 is different from 3)"
     ]
    }
   ],
   "source": [
    "###Enter your codes here\n",
    "\n",
    "#SAME LOOP AS BEFORE, JUST WITH WD AND ADD TOTALINCOME/TOTALDEDUCTIONS...\n",
    "#unfortunately I ran out of time\n",
    "\n",
    "#empty residual vector\n",
    "residuals = []\n",
    "\n",
    "#actual loop\n",
    "for county in countiesClean:\n",
    "    #get county totals\n",
    "    taxCountyTots = tax.loc[(tax['County'] == county) & (tax['IncomeClass'] == 'Total')]\n",
    " \n",
    "    #check if all years, if so proceed with least squares calculation\n",
    "    if len(taxCountyTots) == 15:\n",
    "        #matrix formation\n",
    "        yrs = np.array([taxCountyTots['Year']])\n",
    "        txPrv = np.append(0, np.array([taxTCtot['avg_tax'][:14]])).reshape(1,15)\n",
    "        M = np.concatenate((yrs, txPrv, ones)).T\n",
    "        \n",
    "        #prediction values\n",
    "        pred = np.matmul(M, wd)\n",
    "\n",
    "        #least squares\n",
    "        resid = np.sum(np.square(taxCountyTots['avg_tax']-pred[:]))\n",
    "        residuals.append(resid)\n",
    "       \n",
    "#plot, showing raw\n",
    "plt.hist(residuals)"
   ]
  },
  {
   "cell_type": "markdown",
   "id": "1c52a23d",
   "metadata": {},
   "source": [
    "Again, are there major outliers? How do the coefficients compare across counties?"
   ]
  },
  {
   "cell_type": "markdown",
   "id": "c0bcde86",
   "metadata": {},
   "source": [
    "Answer:"
   ]
  },
  {
   "cell_type": "markdown",
   "id": "1878817f",
   "metadata": {},
   "source": [
    "## h)\n",
    "\n",
    "If you wanted to predict the income tax in each county in future years, do you think the county-specific models or the Tompkins model would perform better? Why? What concerns might you have about each model?"
   ]
  },
  {
   "cell_type": "markdown",
   "id": "057a63d6",
   "metadata": {},
   "source": [
    "Answer:"
   ]
  },
  {
   "cell_type": "markdown",
   "id": "483584b0",
   "metadata": {},
   "source": [
    "## i)\n",
    "\n",
    "What other information would you want to use to make your model even better?"
   ]
  },
  {
   "cell_type": "markdown",
   "id": "81d9ab1b",
   "metadata": {},
   "source": [
    "Answer:\n",
    "\n",
    "THIS IS MY ANSWER FOR QUESTION 2 !!!\n",
    "\n",
    "This course is awesome and I am learning a lot. The professor and TAs are a great help.\n",
    "I think the homework could be written with better clues. For example, in this assignment my first instinct was to use the demonstrated gradient_descent.ipynb from class, but a TA told me to do a simpler function. Without this guidance, I would've had a lot of difficulty with implementing that. Maybe only I made this mistake, but something I wanted to mention...happens in other HWs too."
   ]
  },
  {
   "cell_type": "markdown",
   "id": "fd45ffdd",
   "metadata": {},
   "source": []
  }
 ],
 "metadata": {
  "kernelspec": {
   "display_name": "Python 3",
   "language": "python",
   "name": "python3"
  },
  "language_info": {
   "codemirror_mode": {
    "name": "ipython",
    "version": 3
   },
   "file_extension": ".py",
   "mimetype": "text/x-python",
   "name": "python",
   "nbconvert_exporter": "python",
   "pygments_lexer": "ipython3",
   "version": "3.9.13"
  }
 },
 "nbformat": 4,
 "nbformat_minor": 5
}
